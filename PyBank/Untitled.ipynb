{
 "cells": [
  {
   "cell_type": "code",
   "execution_count": 77,
   "metadata": {},
   "outputs": [
    {
     "name": "stdout",
     "output_type": "stream",
     "text": [
      "<_csv.reader object at 0x00000000051EF528>\n",
      "CSV Header: ['Date', 'Profit/Losses']\n",
      "Total Months: 86\n",
      "Total Net Amount of profit/Losses: $38382578\n",
      "Average Change: $-2315.1176470588234\n"
     ]
    }
   ],
   "source": [
    "import os\n",
    "import csv\n",
    "\n",
    "csvpath = os.path.join('.\\Resources', 'budget_data.csv')\n",
    "row = []\n",
    "row_count = 0\n",
    "sum = 0\n",
    "delta = 0\n",
    "delta_sum = 0\n",
    "\n",
    "\n",
    "with open(csvpath, newline='') as csvfile:\n",
    "\n",
    "    # CSV reader specifies delimiter and variable that holds contents\n",
    "    csvreader = csv.reader(csvfile, delimiter=',')\n",
    "\n",
    "    print(csvreader)\n",
    "\n",
    "    # Read the header row first (skip this step if there is no header)\n",
    "    csv_header = next(csvreader)\n",
    "    print(f\"CSV Header: {csv_header}\")\n",
    "    \n",
    "    keep_value = 867884\n",
    "    # Read each row of data after the header\n",
    "    for row in csvreader:\n",
    "        #print(row)\n",
    "        \n",
    "        delta = int(row[1]) - keep_value     \n",
    "        row_count = row_count+1\n",
    "        sum = sum + int(row[1])\n",
    "        delta_sum = delta_sum + delta\n",
    "\n",
    "        keep_value = int(row[1])\n",
    "\n",
    "total = delta_sum/(int(row_count)-1)       \n",
    "\n",
    "print(f\"Total Months: {row_count}\")\n",
    "print(f\"Total Net Amount of profit/Losses: ${sum}\")\n",
    "print(f\"Average Change: ${total}\")\n",
    "                         "
   ]
  },
  {
   "cell_type": "code",
   "execution_count": null,
   "metadata": {},
   "outputs": [],
   "source": []
  }
 ],
 "metadata": {
  "kernelspec": {
   "display_name": "Python 3",
   "language": "python",
   "name": "python3"
  },
  "language_info": {
   "codemirror_mode": {
    "name": "ipython",
    "version": 3
   },
   "file_extension": ".py",
   "mimetype": "text/x-python",
   "name": "python",
   "nbconvert_exporter": "python",
   "pygments_lexer": "ipython3",
   "version": "3.7.0"
  }
 },
 "nbformat": 4,
 "nbformat_minor": 2
}
