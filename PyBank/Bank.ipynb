{
 "cells": [
  {
   "cell_type": "code",
   "execution_count": 25,
   "metadata": {},
   "outputs": [
    {
     "name": "stdout",
     "output_type": "stream",
     "text": [
      "Financial Ananlysis\n",
      "----------------------------\n",
      "Total Months: 86\n",
      "Total Net Amount of profit/Losses: $38382578\n",
      "Average Change: $-2315.1176470588234\n",
      "Greatest Increase in Profits: Feb-2012 ($1170593)\n",
      "Greatest Decrease in Profits: Sep-2013 ($-1196225)\n"
     ]
    }
   ],
   "source": [
    "import os\n",
    "import csv\n",
    "\n",
    "\n",
    "csvpath = os.path.join('./Resources/', 'budget_data.csv')\n",
    "row = []\n",
    "row_count = 0\n",
    "sum = 0\n",
    "delta = 0\n",
    "delta_sum = 0\n",
    "lista = []\n",
    "\n",
    "with open(csvpath, newline='') as csvfile:\n",
    "\n",
    "    # CSV reader specifies delimiter and variable that holds contents\n",
    "    csvreader = csv.reader(csvfile, delimiter=',')\n",
    "\n",
    "   \n",
    "\n",
    "    # Read the header row first (skip this step if there is no header)\n",
    "    csv_header = next(csvreader)\n",
    "    #print(f\"CSV Header: {csv_header}\")\n",
    "    \n",
    "    keep_value = 867884\n",
    "    # Read each row of data after the header\n",
    "    for row in csvreader:\n",
    "        #print(row)\n",
    "        \n",
    "        delta = int(row[1]) - keep_value     \n",
    "        row_count = row_count+1\n",
    "        sum = sum + int(row[1])\n",
    "        delta_sum = delta_sum + delta\n",
    "      \n",
    "        keep_value = int(row[1])\n",
    "        lista.append(row)\n",
    "\n",
    "total = delta_sum/(int(row_count)-1)       \n",
    "max_value =max(lista, key=lambda item: int(item[1]))\n",
    "min_value =min(lista, key=lambda item: int(item[1]))\n",
    "\n",
    "\n",
    "\n",
    "with open(\"output.txt\", \"w+\") as output:\n",
    "   \n",
    "    print(\"Financial Ananlysis\")\n",
    "    output.write(\"Financial Ananlysis\\n\")\n",
    "    print(\"----------------------------\")\n",
    "    output.write(\"----------------------------\\n\")\n",
    "    print(f\"Total Months: {row_count}\")\n",
    "    output.write(f\"Total Months: {row_count}\\n\")\n",
    "    print(f\"Total Net Amount of profit/Losses: ${sum}\")\n",
    "    output.write(f\"Total Net Amount of profit/Losses: ${sum}\\n\")\n",
    "    print(f\"Average Change: ${total}\")\n",
    "    output.write(f\"Average Change: ${total}\\n\")\n",
    "    print(f\"Greatest Increase in Profits: {max_value[0]} (${max_value[1]})\")\n",
    "    output.write(f\"Greatest Increase in Profits: {max_value[0]} (${max_value[1]})\\n\")\n",
    "    print(f\"Greatest Decrease in Profits: {min_value[0]} (${min_value[1]})\")\n",
    "    output.write(f\"Greatest Decrease in Profits: {min_value[0]} (${min_value[1]})\\n\")\n"
   ]
  },
  {
   "cell_type": "code",
   "execution_count": null,
   "metadata": {},
   "outputs": [],
   "source": []
  }
 ],
 "metadata": {
  "kernelspec": {
   "display_name": "Python 3",
   "language": "python",
   "name": "python3"
  },
  "language_info": {
   "codemirror_mode": {
    "name": "ipython",
    "version": 3
   },
   "file_extension": ".py",
   "mimetype": "text/x-python",
   "name": "python",
   "nbconvert_exporter": "python",
   "pygments_lexer": "ipython3",
   "version": "3.7.0"
  }
 },
 "nbformat": 4,
 "nbformat_minor": 2
}
